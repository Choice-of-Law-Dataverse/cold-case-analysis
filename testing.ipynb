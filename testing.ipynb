{
 "cells": [
  {
   "cell_type": "code",
   "execution_count": 11,
   "metadata": {},
   "outputs": [],
   "source": [
    "# CONFIG\n",
    "import os\n",
    "from dotenv import load_dotenv\n",
    "\n",
    "load_dotenv()\n",
    "\n",
    "# Airtable configuration\n",
    "AIRTABLE_API_KEY = os.getenv('AIRTABLE_API_KEY')\n",
    "AIRTABLE_BASE_ID = os.getenv('AIRTABLE_BASE_ID')\n",
    "AIRTABLE_CD_TABLE = os.getenv('AIRTABLE_CD_TABLE')"
   ]
  },
  {
   "cell_type": "markdown",
   "metadata": {},
   "source": [
    "# Data Retrieval"
   ]
  },
  {
   "cell_type": "code",
   "execution_count": 13,
   "metadata": {},
   "outputs": [],
   "source": [
    "import pandas as pd\n",
    "from pyairtable import Api\n",
    "\n",
    "# data processing\n",
    "def remove_fields_prefix(df):\n",
    "    df.columns = df.columns.str.replace('fields.', '')\n",
    "    return df\n",
    "\n",
    "def process_list_like_values(df):\n",
    "    for col in df.columns:\n",
    "        if df[col].apply(lambda x: isinstance(x, list)).any():\n",
    "            df[col] = df[col].apply(lambda x: ','.join(map(str, x)) if isinstance(x, list) else x)\n",
    "    return df\n",
    "\n",
    "# data fetching\n",
    "def fetch_data(table_id):\n",
    "    api = Api(AIRTABLE_API_KEY)\n",
    "    table = api.table(AIRTABLE_BASE_ID, table_id)\n",
    "    records = table.all()\n",
    "\n",
    "    if records:\n",
    "        df = pd.json_normalize([record['fields'] for record in records])  # Directly normalize 'fields'\n",
    "        df = remove_fields_prefix(df)\n",
    "        df = process_list_like_values(df)\n",
    "        return df\n",
    "    else:\n",
    "        return pd.DataFrame()  # Return an empty DataFrame if no records\n",
    "\n",
    "# implementation\n",
    "df = fetch_data(AIRTABLE_CD_TABLE)\n",
    "\n",
    "columns_to_check = [\n",
    "    \"Relevant facts / Summary of the case\", \n",
    "    \"Relevant rules of law\", \n",
    "    \"Choice of law issue\", \n",
    "    \"Court's position\"\n",
    "]\n",
    "\n",
    "df = df.dropna(subset=columns_to_check)\n",
    "\n",
    "cases = df['Case'].to_list()\n",
    "abstracts = df['Abstract'].to_list()\n",
    "texts = df['Content'].to_list()\n",
    "facts = df['Relevant facts / Summary of the case'].to_list()\n",
    "rules = df['Relevant rules of law'].to_list()\n",
    "issues = df['Choice of law issue'].to_list()\n",
    "positions = df[\"Court's position\"].to_list()"
   ]
  },
  {
   "cell_type": "markdown",
   "metadata": {},
   "source": [
    "# Case Analysis"
   ]
  },
  {
   "cell_type": "code",
   "execution_count": 17,
   "metadata": {},
   "outputs": [],
   "source": [
    "# select one single court decision\n",
    "\n",
    "cd = texts[0]"
   ]
  },
  {
   "cell_type": "code",
   "execution_count": 14,
   "metadata": {},
   "outputs": [],
   "source": [
    "#utils\n",
    "\n",
    "import subprocess\n",
    "\n",
    "def prompt_llama(prompt_text):\n",
    "    # Pass the prompt text directly as input without flags\n",
    "    process = subprocess.run(\n",
    "        [\"ollama\", \"run\", \"llama3.1\"],\n",
    "        input=prompt_text,  # Provide the prompt directly\n",
    "        capture_output=True,\n",
    "        text=True\n",
    "    )\n",
    "\n",
    "    # Handle errors if they occur\n",
    "    if process.returncode != 0:\n",
    "        print(\"Error:\", process.stderr)\n",
    "        return None\n",
    "    \n",
    "    # Return the model's output\n",
    "    return process.stdout.strip()"
   ]
  },
  {
   "cell_type": "markdown",
   "metadata": {},
   "source": [
    "## 0. Abstract"
   ]
  },
  {
   "cell_type": "code",
   "execution_count": 18,
   "metadata": {},
   "outputs": [
    {
     "name": "stdout",
     "output_type": "stream",
     "text": [
      "Here is a possible abstract based on the provided text:\n",
      "\n",
      "\"Dispute over notice of termination: The Swiss Federal Supreme Court upholds a cantonal court's decision that an employee was validly dismissed verbally during an interview with two representatives, despite her claims to the contrary and allegations of arbitrariness. The court concludes that the employee should have inferred a representative relationship from the circumstances and that the dismissal was clearly communicated.\"\n"
     ]
    }
   ],
   "source": [
    "# extract abstracts from texts\n",
    "prompt_abstract = f\"\"\"Here is the text of a Court Decision:\n",
    "                {cd}\n",
    "                Find the official abstract stated in the case, usually right at the beginning. This task is successfully accomplished if it is a precise \"copy-paste\" of the Regeste paragraph of the file. This term varies according to country to country (e.g., Brazil: Ementa).  The translation of certain legal concepts can be challenging. It is a good abstract if it conveys the same meaning (not necessarily obtained via a literal translation).\n",
    "\n",
    "                Otherwise, this has to return a general description of the information in the file. It's successfully accomplished if (i) it is concise; (ii) it manages to condense all the key details (topic, provisions, information about the legal dispute) in a single paragraph or less. \n",
    "                \"\"\"\n",
    "abstract_l3 = prompt_llama(prompt_abstract)\n",
    "print(abstract_l3)"
   ]
  },
  {
   "cell_type": "markdown",
   "metadata": {},
   "source": [
    "## 1. Relevant Facts"
   ]
  },
  {
   "cell_type": "code",
   "execution_count": 19,
   "metadata": {},
   "outputs": [
    {
     "name": "stdout",
     "output_type": "stream",
     "text": [
      "The case involves a dispute between two employees, B and A, representing their manager C, who terminated the employment contract of the appellant on April 25, 2007. The termination was communicated verbally by B and A to the appellant during an interview. The appellant claims that her dismissal was arbitrary, arguing that she did not understand that B and A were acting as representatives of C.\n",
      "\n",
      "In this case, there are no parties from different jurisdictions involved in the dispute, so private international law principles related to jurisdictional conflicts are not applicable. However, the choice of law issue is relevant because it concerns the interpretation of Swiss employment law (FSCA).\n",
      "\n",
      "The dispute centers on whether the appellant understood that B and A were representing C when they communicated her termination. The cantonal court found that the appellant was obligated to infer a relationship of representation between B/A and C based on their conduct, including explaining reasons for the dismissal.\n",
      "\n",
      "The Swiss Federal Supreme Court upheld this finding, ruling that the cantonal court did not act arbitrarily in considering that the appellant had to infer from the circumstances that a representative relationship existed. The court also found that the termination was communicated clearly and precisely to the appellant, as required by Swiss employment law (art. 335 CO).\n",
      "\n",
      "The dispute's resolution turns on the interpretation of Swiss employment law, specifically the requirements for valid communication of dismissal under art. 335 CO and the criteria for establishing a representative relationship between employees and management under FSCA.\n"
     ]
    }
   ],
   "source": [
    "# relevant facts\n",
    "prompt_facts = f\"\"\"Here is the text of a Court Decision:\n",
    "                {cd}\n",
    "                Create a short summary of the facts of the case. Who are the parties, what happened, what is the dispute about and what are the different stages of court proceedings etc. The summary prioritizes information on choice of law.\n",
    "                It's successfully accomplished when I understand the case from a private international law perspective (e.g., providing which jurisdictions are involved - be it through the parties or legal frameworks) and what happened in the case, particularly related to the choice of law issue. It should be written in an accessible manner. It should contain accurate information (cannot add assumptions that are not stated in the case!). It should be a structured paragraph meaningful for private international law practitioners.\n",
    "                \"\"\"\n",
    "facts_l3 = prompt_llama(prompt_facts)\n",
    "print(facts_l3)"
   ]
  },
  {
   "cell_type": "markdown",
   "metadata": {},
   "source": [
    "## 2. Relevant Rules of Law"
   ]
  },
  {
   "cell_type": "code",
   "execution_count": 21,
   "metadata": {},
   "outputs": [
    {
     "name": "stdout",
     "output_type": "stream",
     "text": [
      "**Legislations:**\n",
      "\n",
      "1. **Federal Act on Civil Procedure (FSCA)**:\n",
      "\t* Article 105, paragraph 1\n",
      "\t* Article 66, article 1 and 2\n",
      "\t* Article 68, articles 1 and 2\n",
      "2. **Swiss Code of Obligations (CO)**:\n",
      "\t* Article 335 CO\n",
      "\n",
      "**Court Decisions:**\n",
      "\n",
      "1. **Federal Supreme Court Decision**:\n",
      "\t* BGE 128 III 129 (recital 2b, p. 135)\n",
      "\t* 4C.151/2003 (August 26, 2008) - para. 4.3\n",
      "2. **Rules of Law**:\n",
      "\t* The understanding of the court regarding the principle that a person receiving a notice must unambiguously understand the meaning of the declaration.\n",
      "\t* The notion that the spirit behind an employment termination is very similar to the one that led to hiring, implying that the employee should infer a representative relationship.\n"
     ]
    }
   ],
   "source": [
    "# relevant rules of law\n",
    "prompt_rules = f\"\"\"Here is the text of a Court Decision:\n",
    "                {cd}\n",
    "                Extract all legislations and court decisions from the given court decision. Differentiate between legislations and court decisions that have to do with the theme of Choice of Law and legislations and court decisions of a general manner.\n",
    "                This category is called rules of law because (i) it is not necessarily a provision that is clearly cited - it can be the understanding of the court. (ii) it does not necessarily need to be a provision stemming from State law.\n",
    "                \"\"\"\n",
    "rules_l3 = prompt_llama(prompt_rules)\n",
    "print(rules_l3)"
   ]
  },
  {
   "cell_type": "markdown",
   "metadata": {},
   "source": [
    "## 3. Choice of Law Issue"
   ]
  },
  {
   "cell_type": "code",
   "execution_count": 25,
   "metadata": {},
   "outputs": [
    {
     "name": "stdout",
     "output_type": "stream",
     "text": [
      "Contract Law\n"
     ]
    }
   ],
   "source": [
    "# choice of law issue\n",
    "prompt_issue_theme = f\"\"\"Here is the text of a Court Decision:\n",
    "                {cd}\n",
    "                Classify it into one main Choice of Law concept and return only the concept. NO EXPLANATION WHATSOEVER.\n",
    "                \"\"\"\n",
    "issue_theme_l3 = prompt_llama(prompt_issue_theme)\n",
    "print(issue_theme_l3)"
   ]
  },
  {
   "cell_type": "code",
   "execution_count": 27,
   "metadata": {},
   "outputs": [],
   "source": [
    "#issue_theme_l3\n",
    "theme_definition = \"this is a mock definition\""
   ]
  },
  {
   "cell_type": "code",
   "execution_count": 28,
   "metadata": {},
   "outputs": [
    {
     "name": "stdout",
     "output_type": "stream",
     "text": [
      "Here's a concise question that addresses the issue:\n",
      "\n",
      "**Can an employee infer a representative relationship between their manager and colleagues who communicate their dismissal, making them responsible for giving notice?**\n",
      "\n",
      "This question overlaps with the theme \"Agency/Representation\" in employment contracts, specifically addressing issues of vicarious liability and representation in dismissal proceedings.\n"
     ]
    }
   ],
   "source": [
    "# choice of law issue\n",
    "prompt_issue = f\"\"\"Here is the text of a Court Decision:\n",
    "                {cd}\n",
    "                The concept {issue_concept_l3} has been identified to be related with this court decision. The concept is defined as follows:\n",
    "                {theme_definition}\n",
    "                Refer to the main - private international law - problem, and phrase it in the format of a concise question. The issue should overlap with the classified theme - this should be of assistance to show what “category” of choice of law the case deals with. \n",
    "                This is successfully accomplished when it can be boiled down to a yes/no answer. Alternatively, it can also be a descriptive text talking about the questions in regard to choice of law that are answered by the specific case. \n",
    "                \"\"\"\n",
    "issue_l3 = prompt_llama(prompt_issue)\n",
    "print(issue_l3)"
   ]
  },
  {
   "cell_type": "markdown",
   "metadata": {},
   "source": [
    "## 4. Court's Position"
   ]
  },
  {
   "cell_type": "code",
   "execution_count": 29,
   "metadata": {},
   "outputs": [
    {
     "name": "stdout",
     "output_type": "stream",
     "text": [
      "Here's a descriptive text that summarizes the court's position in regard to the statements made in the \"choice of law issue\" tab:\n",
      "\n",
      "The court confirms that the dismissal was effectively communicated to the appellant, and therefore, Swiss federal law is applicable. The court finds no fault with the communication process, as it was verbally conveyed by the witnesses present at the interview on April 25, 2007, which the appellant herself admitted in an email sent to her representative on May 14, 2007.\n",
      "\n",
      "In other words, the answer to the \"choice of law issue\" tab is a confirmation that Swiss federal law applies.\n"
     ]
    }
   ],
   "source": [
    "# court's position\n",
    "prompt_position = f\"\"\"Here is the text of a Court Decision:\n",
    "                {cd}\n",
    "                Extract the court’s position in regard to the statements made in the “choice of law issue” tab. It can be phrased as an answer to the question or as a descriptive text. It’s important that the answers correlate with the answers provided in the “answers” tab (confirming, refuting, or adding more information to something).\n",
    "                This is successfully accomplished when I understand the answer (yes/no/depends on certain circumstances outlined by the specific context of the case) related to the previous problem (Choice of Law Issue).\n",
    "                \"\"\"\n",
    "position_l3 = prompt_llama(prompt_position)\n",
    "print(position_l3)"
   ]
  }
 ],
 "metadata": {
  "kernelspec": {
   "display_name": "Python 3 (ipykernel)",
   "language": "python",
   "name": "python3"
  },
  "language_info": {
   "codemirror_mode": {
    "name": "ipython",
    "version": 3
   },
   "file_extension": ".py",
   "mimetype": "text/x-python",
   "name": "python",
   "nbconvert_exporter": "python",
   "pygments_lexer": "ipython3",
   "version": "3.12.3"
  }
 },
 "nbformat": 4,
 "nbformat_minor": 4
}
