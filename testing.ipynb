{
 "cells": [
  {
   "cell_type": "code",
   "execution_count": 1,
   "metadata": {},
   "outputs": [],
   "source": [
    "# CONFIG\n",
    "import os\n",
    "from dotenv import load_dotenv\n",
    "\n",
    "load_dotenv()\n",
    "\n",
    "# Airtable configuration\n",
    "AIRTABLE_API_KEY = os.getenv('AIRTABLE_API_KEY')\n",
    "AIRTABLE_BASE_ID = os.getenv('AIRTABLE_BASE_ID')\n",
    "AIRTABLE_CD_TABLE = os.getenv('AIRTABLE_CD_TABLE')"
   ]
  },
  {
   "cell_type": "markdown",
   "metadata": {},
   "source": [
    "# Data Retrieval"
   ]
  },
  {
   "cell_type": "code",
   "execution_count": 27,
   "metadata": {},
   "outputs": [],
   "source": [
    "import pandas as pd\n",
    "from pyairtable import Api\n",
    "\n",
    "# data processing\n",
    "def remove_fields_prefix(df):\n",
    "    df.columns = df.columns.str.replace('fields.', '')\n",
    "    return df\n",
    "\n",
    "def process_list_like_values(df):\n",
    "    for col in df.columns:\n",
    "        if df[col].apply(lambda x: isinstance(x, list)).any():\n",
    "            df[col] = df[col].apply(lambda x: ','.join(map(str, x)) if isinstance(x, list) else x)\n",
    "    return df\n",
    "\n",
    "# data fetching\n",
    "def fetch_data(table_id):\n",
    "    api = Api(AIRTABLE_API_KEY)\n",
    "    table = api.table(AIRTABLE_BASE_ID, table_id)\n",
    "    records = table.all()\n",
    "\n",
    "    if records:\n",
    "        df = pd.json_normalize([record['fields'] for record in records])  # Directly normalize 'fields'\n",
    "        df = remove_fields_prefix(df)\n",
    "        df = process_list_like_values(df)\n",
    "        return df\n",
    "    else:\n",
    "        return pd.DataFrame()  # Return an empty DataFrame if no records\n",
    "\n",
    "# implementation\n",
    "df = fetch_data(AIRTABLE_CD_TABLE)\n",
    "\n",
    "columns_to_check = [\n",
    "    \"Relevant facts / Summary of the case\", \n",
    "    \"Relevant rules of law involved\", \n",
    "    \"Choice of law issue\", \n",
    "    \"Court's position\"\n",
    "]\n",
    "\n",
    "df = df.dropna(subset=columns_to_check)\n",
    "\n",
    "cases = df['Case'].to_list()\n",
    "abstracts = df['Abstract'].to_list()\n",
    "texts = df['Content'].to_list()\n",
    "facts = df['Relevant facts / Summary of the case'].to_list()\n",
    "rules = df['Relevant rules of law involved'].to_list()\n",
    "issues = df['Choice of law issue'].to_list()\n",
    "positions = df[\"Court's position\"].to_list()"
   ]
  },
  {
   "cell_type": "markdown",
   "metadata": {},
   "source": [
    "# Case Analysis"
   ]
  },
  {
   "cell_type": "code",
   "execution_count": null,
   "metadata": {},
   "outputs": [],
   "source": [
    "# utils\n",
    "import subprocess\n",
    "import json\n",
    "\n",
    "def prompt_llama(prompt_text):\n",
    "    # Run the Ollama command to prompt LLaMA and capture output\n",
    "    process = subprocess.run(\n",
    "        [\"ollama\", \"generate\", \"llama3.1\", \"--input\", prompt_text],\n",
    "        capture_output=True,\n",
    "        text=True\n",
    "    )\n",
    "\n",
    "    # Handle errors if they occur\n",
    "    if process.returncode != 0:\n",
    "        print(\"Error:\", process.stderr)\n",
    "        return None\n",
    "    \n",
    "    # Parse the output\n",
    "    output = process.stdout.strip()  # Adjust based on the format returned by the model\n",
    "    return output"
   ]
  },
  {
   "cell_type": "markdown",
   "metadata": {},
   "source": [
    "## 0. Abstract"
   ]
  },
  {
   "cell_type": "code",
   "execution_count": 28,
   "metadata": {},
   "outputs": [],
   "source": [
    "# extract abstracts from texts\n",
    "prompt_text = \"What is the capital of Switzerland?\"\n",
    "model_output = prompt_llama(prompt_text)"
   ]
  },
  {
   "cell_type": "markdown",
   "metadata": {},
   "source": [
    "## 1. Relevant Facts"
   ]
  },
  {
   "cell_type": "code",
   "execution_count": null,
   "metadata": {},
   "outputs": [],
   "source": [
    "# relevant facts"
   ]
  },
  {
   "cell_type": "markdown",
   "metadata": {},
   "source": [
    "## 2. Relevant Rules of Law"
   ]
  },
  {
   "cell_type": "code",
   "execution_count": null,
   "metadata": {},
   "outputs": [],
   "source": [
    "# relevant rules of law"
   ]
  },
  {
   "cell_type": "markdown",
   "metadata": {},
   "source": [
    "## 3. Choice of Law Issue"
   ]
  },
  {
   "cell_type": "code",
   "execution_count": null,
   "metadata": {},
   "outputs": [],
   "source": [
    "# choice of law issue"
   ]
  },
  {
   "cell_type": "markdown",
   "metadata": {},
   "source": [
    "## 4. Court's Position"
   ]
  },
  {
   "cell_type": "code",
   "execution_count": null,
   "metadata": {},
   "outputs": [],
   "source": [
    "# court's position"
   ]
  }
 ],
 "metadata": {
  "kernelspec": {
   "display_name": "Python 3 (ipykernel)",
   "language": "python",
   "name": "python3"
  },
  "language_info": {
   "codemirror_mode": {
    "name": "ipython",
    "version": 3
   },
   "file_extension": ".py",
   "mimetype": "text/x-python",
   "name": "python",
   "nbconvert_exporter": "python",
   "pygments_lexer": "ipython3",
   "version": "3.12.3"
  }
 },
 "nbformat": 4,
 "nbformat_minor": 4
}
