{
 "cells": [
  {
   "cell_type": "code",
   "execution_count": null,
   "metadata": {},
   "outputs": [],
   "source": [
    "# CONFIG\n",
    "import os\n",
    "from dotenv import load_dotenv\n",
    "\n",
    "load_dotenv()\n",
    "\n",
    "# Airtable configuration\n",
    "AIRTABLE_API_KEY = os.getenv('AIRTABLE_API_KEY')\n",
    "AIRTABLE_BASE_ID = os.getenv('AIRTABLE_BASE_ID')\n",
    "AIRTABLE_CD_TABLE = os.getenv('AIRTABLE_CD_TABLE')"
   ]
  },
  {
   "cell_type": "markdown",
   "metadata": {},
   "source": [
    "# Data Retrieval"
   ]
  },
  {
   "cell_type": "code",
   "execution_count": null,
   "metadata": {},
   "outputs": [],
   "source": [
    "import pandas as pd\n",
    "from pyairtable import Api\n",
    "\n",
    "def remove_fields_prefix(df):\n",
    "    df.columns = df.columns.str.replace('fields.', '')\n",
    "    return df\n",
    "\n",
    "def fetch_data(table_id):\n",
    "    table = self.api.table(self.base_id, table_id)\n",
    "    records = table.all()\n",
    "\n",
    "    if records:\n",
    "        df = pd.json_normalize([record['fields'] for record in records])  # Directly normalize 'fields'\n",
    "        df = remove_fields_prefix(df)\n",
    "        return df\n",
    "    else:\n",
    "        return pd.DataFrame()  # Return an empty DataFrame if no records\n",
    "\n",
    "df = fetch_data(AIRTABLE_CD_TABLE)\n",
    "print(df.head())"
   ]
  },
  {
   "cell_type": "markdown",
   "metadata": {},
   "source": [
    "# Step 1"
   ]
  }
 ],
 "metadata": {
  "language_info": {
   "name": "python"
  }
 },
 "nbformat": 4,
 "nbformat_minor": 2
}
