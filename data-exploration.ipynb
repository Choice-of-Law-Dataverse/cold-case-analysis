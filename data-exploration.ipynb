{
 "cells": [
  {
   "cell_type": "code",
   "execution_count": 1,
   "id": "7a0cdb95-8ed8-4ecb-9cea-fb69df85c144",
   "metadata": {},
   "outputs": [],
   "source": [
    "import pandas as pd"
   ]
  },
  {
   "cell_type": "code",
   "execution_count": 49,
   "id": "c82658ac-5eb1-4f87-addb-fcb63a7c3a87",
   "metadata": {},
   "outputs": [],
   "source": [
    "df = pd.read_csv(\"cold_case_analyzer/data/case_analysis_results.csv\")\n",
    "df2 = pd.read_csv(\"cold_case_analyzer/data/case_analysis_results_2.csv\")\n",
    "df3 = pd.read_csv(\"cold_case_analyzer/data/case_analysis_results_3.csv\")\n",
    "df4 = pd.read_csv(\"cold_case_analyzer/data/case_analysis_results_4.csv\")"
   ]
  },
  {
   "cell_type": "code",
   "execution_count": 57,
   "id": "51b8e448-5ab5-432b-91ee-4391adcbc544",
   "metadata": {},
   "outputs": [
    {
     "name": "stdout",
     "output_type": "stream",
     "text": [
      "Choice of Law Issue\n",
      "\n",
      "\n",
      "round 1\n",
      "In this case, the choice of law issue revolves around determining which legal framework, Swiss or Italian law, applies to the employment dispute between X.________ and Y.________ SA. The case is of an international nature because the appellant, X.________, is domiciled in Italy and worked in that country, while the respondent, Y.________ SA, is a Swiss company.\n",
      "\n",
      "When an international case arises, the court must decide which country's laws govern the dispute. Generally, this determination is made under the private international law rules of the forum, in this case, Switzerland. Swiss private international law is guided by the Swiss Private International Law Act (PILA).\n",
      "\n",
      "According to the PILA, disputes concerning employment contracts are typically governed by the law of the place where the employee habitually performs their work (Article 121 of PILA). Since X.________ worked in Milan, Italy, a prima facie assumption could be that Italian law should apply. However, the PILA also allows for a choice of law by the parties involved (Article 116 PILA), permitting them to select the legal system that will govern their contractual relationship.\n",
      "\n",
      "In this case, although the cantonal court noted the international dimension due to X.________'s domicile and place of work, both parties and the successive cantonal courts referred to Swiss domestic law. This implies that both parties, each represented by lawyers, made a choice, either expressly or tacitly, to apply Swiss law to their employment relationship. Such a choice is permissible under PILA, and Swiss courts have previously acknowledged the validity of a tacit but conscious choice of law (as noted in BGE 130 III 417 consid. 2.2.1).\n",
      "\n",
      "Therefore, despite the international nature of the case and the potential applicability of Italian law, the choice of Swiss law by the parties, as inferred from their conduct during litigation, results in the application of Swiss law to resolve the dispute.\n",
      "\n",
      "\n",
      "round 2\n",
      "The choice of law issue in this case revolves around determining which legal framework should apply to the employment dispute between X.________ and Y.________ SA. The key considerations that arise in this context include:\n",
      "\n",
      "1. **International Nature of the Case:** The case involves parties that have connections to both Switzerland and Italy, as the appellant, X.________, is domiciled in Italy and worked there for a company based in Switzerland.\n",
      "\n",
      "2. **Jurisdictional Agreements:** The parties had agreed to a prorogation of jurisdiction in favor of the Geneva labor courts, which means they agreed that the Geneva courts would have the jurisdiction to hear the case. However, prorogation of jurisdiction does not necessarily imply a choice of the applicable law.\n",
      "\n",
      "3. **Potential Applicable Law:** Based on the facts presented, there is a prima facie assumption that Italian law could apply, as the performance of X.________'s work took place in Italy (Art. 121 para. 1 PILA - Private International Law Act).\n",
      "\n",
      "4. **Choice of Law by the Parties:** Despite the potential application of Italian law, both parties, through their conduct and arguments, referred explicitly to Swiss domestic law throughout the proceedings. The court notes this as an indication of a tacit yet conscious choice of law in favor of Swiss law (Art. 116 PILA).\n",
      "\n",
      "In summary, while Italian law might have initially been considered applicable based on the place of performance principle, the choice of law issue is resolved by identifying that both parties effectively opted for Swiss law to govern their employment contract, as evidenced by their legal arguments and the procedural handling of the case in Swiss courts. This tacit choice of law is upheld by the Swiss Federal Supreme Court, which indicates that the parties' actions demonstrated a conscious selection of Swiss legal provisions to resolve their dispute.\n",
      "\n",
      "\n",
      "round 3\n",
      "The case 4A_227/2009 revolves around several legal issues, but the primary choice of law issue involves determining the applicable legal framework governing the employment contract and its termination. Here's a breakdown of the choice of law considerations in this case:\n",
      "\n",
      "1. **International Nature of the Case**: The case is of an international nature because the appellant, X.________, was domiciled in Italy and had performed work there for the Swiss-based company Y.________ SA. This raised the question of which country's laws should govern the employment relationship and the termination dispute.\n",
      "\n",
      "2. **Swiss Federal Court Examination**: The Swiss Federal Court had to determine the applicable law ex officio. This requires applying Swiss private international law principles, particularly concerning employment relationships that have a cross-border element.\n",
      "\n",
      "3. **Private International Law Act (PILA)**: According to Swiss private international law (Art. 121 al. 1 PILA), as a general rule, the law of the state in which the employee habitually carries out their work is applicable. Since X.________ worked in Milan, Italian law would presumptively govern the employment contract.\n",
      "\n",
      "4. **Choice of Law by Parties**: Despite the presumption of Italian law's applicability, both parties, represented by their respective lawyers, chose to apply Swiss domestic law. This choice of law was tacitly but consciously made, as evidenced by their reliance on Swiss law in their arguments throughout the case. The cantonal courts and the Swiss Federal Supreme Court subsequently applied Swiss law, referencing Art. 116 PILA, which allows for party autonomy in choosing the applicable law in a contractual relationship.\n",
      "\n",
      "5. **Prorogation of Jurisdiction**: The parties had expressly agreed to prorogate jurisdiction in favor of the Geneva labor courts, which, while mainly relevant to forum determination, interacted with their implicit choice of Swiss law as the governing legal framework.\n",
      "\n",
      "The choice of law issue is thus centered on reconciling the initial presumption of Italian law's applicability due to the location of employment with the parties' joint decision to apply Swiss law, facilitated by their autonomy under Swiss private international law.\n",
      "\n",
      "\n",
      "round 4\n",
      "Did the parties to the employment dispute tacitly agree on the application of Swiss law despite the employee working in Italy, as suggested by their conduct and reliance on Swiss legal provisions?\n"
     ]
    }
   ],
   "source": [
    "i=4\n",
    "print(df.columns[i])\n",
    "print(\"\\n\")\n",
    "print(\"round 1\")\n",
    "print(df.iloc[0].iloc[i])\n",
    "print(\"\\n\")\n",
    "print(\"round 2\")\n",
    "print(df2.iloc[0].iloc[i])\n",
    "print(\"\\n\")\n",
    "print(\"round 3\")\n",
    "print(df3.iloc[0].iloc[i])\n",
    "print(\"\\n\")\n",
    "print(\"round 4\")\n",
    "print(df4.iloc[0].iloc[i])"
   ]
  }
 ],
 "metadata": {
  "kernelspec": {
   "display_name": "Python 3 (ipykernel)",
   "language": "python",
   "name": "python3"
  },
  "language_info": {
   "codemirror_mode": {
    "name": "ipython",
    "version": 3
   },
   "file_extension": ".py",
   "mimetype": "text/x-python",
   "name": "python",
   "nbconvert_exporter": "python",
   "pygments_lexer": "ipython3",
   "version": "3.11.5"
  }
 },
 "nbformat": 4,
 "nbformat_minor": 5
}
