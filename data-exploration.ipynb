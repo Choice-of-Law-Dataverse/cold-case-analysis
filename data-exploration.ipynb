{
 "cells": [
  {
   "cell_type": "code",
   "execution_count": 1,
   "id": "7a0cdb95-8ed8-4ecb-9cea-fb69df85c144",
   "metadata": {},
   "outputs": [],
   "source": [
    "import pandas as pd"
   ]
  },
  {
   "cell_type": "code",
   "execution_count": 2,
   "id": "c82658ac-5eb1-4f87-addb-fcb63a7c3a87",
   "metadata": {},
   "outputs": [],
   "source": [
    "df = pd.read_csv(\"cold_case_analyzer/data/case_analysis_results.csv\")"
   ]
  },
  {
   "cell_type": "code",
   "execution_count": 32,
   "id": "51b8e448-5ab5-432b-91ee-4391adcbc544",
   "metadata": {},
   "outputs": [
    {
     "name": "stdout",
     "output_type": "stream",
     "text": [
      "Index(['ID', 'Abstract', 'Relevant Facts', 'Rules of Law',\n",
      "       'Choice of Law Issue', 'Court's Position'],\n",
      "      dtype='object')\n",
      "The official abstract or \"Regeste\" of a court decision typically summarizes the key legal issues and conclusions of the case. Given the details provided, I don't have the official abstract or \"Regeste\" from the beginning of the court decision file to provide a precise \"copy-paste.\" However, if we were to provide a general description based on the information in the decision:\n",
      "\n",
      "This case involves an employment dispute between X.________, the appellant, and Y.________ SA, the respondent, regarding the validity of an employment termination. The legal dispute questions whether the verbal notice of termination provided by representatives of Y.________ on April 25, 2007, was valid, and if the illness of X.________ rendered the termination notice void due to protections under Article 336c of the Swiss Code of Obligations. The Swiss Federal Supreme Court upheld the decision of the Geneva Labour Court of Appeal, which found the termination was valid, and dismissed X.________'s appeal, requiring her to bear the legal costs and compensate Y.________ SA for expenses.\n"
     ]
    }
   ],
   "source": [
    "print(df.columns)\n",
    "print(df.iloc[0].iloc[1])"
   ]
  }
 ],
 "metadata": {
  "kernelspec": {
   "display_name": "Python 3 (ipykernel)",
   "language": "python",
   "name": "python3"
  },
  "language_info": {
   "codemirror_mode": {
    "name": "ipython",
    "version": 3
   },
   "file_extension": ".py",
   "mimetype": "text/x-python",
   "name": "python",
   "nbconvert_exporter": "python",
   "pygments_lexer": "ipython3",
   "version": "3.11.5"
  }
 },
 "nbformat": 4,
 "nbformat_minor": 5
}
